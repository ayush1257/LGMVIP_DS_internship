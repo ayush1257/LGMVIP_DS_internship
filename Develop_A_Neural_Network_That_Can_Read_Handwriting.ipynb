{
  "nbformat": 4,
  "nbformat_minor": 0,
  "metadata": {
    "colab": {
      "provenance": []
    },
    "kernelspec": {
      "name": "python3",
      "display_name": "Python 3"
    },
    "language_info": {
      "name": "python"
    }
  },
  "cells": [
    {
      "cell_type": "markdown",
      "source": [
        "Develop A Neural Network That Can Read Handwriting"
      ],
      "metadata": {
        "id": "XphV3Dfp27wp"
      }
    },
    {
      "cell_type": "code",
      "execution_count": 6,
      "metadata": {
        "id": "5nr4XGNYiusR"
      },
      "outputs": [],
      "source": [
        "import tensorflow as tf\n",
        "from tensorflow.keras.datasets import mnist\n",
        "from tensorflow.keras.models import Sequential\n",
        "from tensorflow.keras.layers import Conv2D, MaxPooling2D, Flatten, Dense"
      ]
    },
    {
      "cell_type": "code",
      "source": [
        "# Load the MNIST dataset\n",
        "(X_train, y_train), (X_test, y_test) = mnist.load_data()\n",
        "\n",
        "# Normalize the image data to the range of [0, 1]\n",
        "X_train = X_train / 255.0\n",
        "X_test = X_test / 255.0\n",
        "\n",
        "# Reshape the input data to add a channel dimension (for grayscale images)\n",
        "X_train = X_train.reshape(-1, 28, 28, 1)\n",
        "X_test = X_test.reshape(-1, 28, 28, 1)"
      ],
      "metadata": {
        "id": "9CWe7Z5b2qZ2"
      },
      "execution_count": 7,
      "outputs": []
    },
    {
      "cell_type": "code",
      "source": [
        "# Build the CNN model\n",
        "model = Sequential()\n",
        "model.add(Conv2D(32, (3, 3), activation='relu', input_shape=(28, 28, 1)))\n",
        "model.add(MaxPooling2D((2, 2)))\n",
        "model.add(Conv2D(64, (3, 3), activation='relu'))\n",
        "model.add(MaxPooling2D((2, 2)))\n",
        "model.add(Flatten())\n",
        "model.add(Dense(64, activation='relu'))\n",
        "model.add(Dense(10, activation='softmax'))"
      ],
      "metadata": {
        "id": "BESBKjuZ2qXu"
      },
      "execution_count": 8,
      "outputs": []
    },
    {
      "cell_type": "code",
      "source": [
        "# Compile the model\n",
        "model.compile(optimizer='adam', loss='sparse_categorical_crossentropy', metrics=['accuracy'])\n",
        "\n",
        "# Train the model\n",
        "model.fit(X_train, y_train, epochs=10, batch_size=32, validation_data=(X_test, y_test))"
      ],
      "metadata": {
        "colab": {
          "base_uri": "https://localhost:8080/"
        },
        "id": "nhBE-dQX2qVo",
        "outputId": "b12f5e40-aff6-4cf9-81ef-81981c6bead1"
      },
      "execution_count": 9,
      "outputs": [
        {
          "output_type": "stream",
          "name": "stdout",
          "text": [
            "Epoch 1/10\n",
            "1875/1875 [==============================] - 67s 36ms/step - loss: 0.1370 - accuracy: 0.9577 - val_loss: 0.0478 - val_accuracy: 0.9843\n",
            "Epoch 2/10\n",
            "1875/1875 [==============================] - 62s 33ms/step - loss: 0.0471 - accuracy: 0.9853 - val_loss: 0.0406 - val_accuracy: 0.9865\n",
            "Epoch 3/10\n",
            "1875/1875 [==============================] - 64s 34ms/step - loss: 0.0319 - accuracy: 0.9897 - val_loss: 0.0306 - val_accuracy: 0.9901\n",
            "Epoch 4/10\n",
            "1875/1875 [==============================] - 61s 32ms/step - loss: 0.0233 - accuracy: 0.9924 - val_loss: 0.0277 - val_accuracy: 0.9904\n",
            "Epoch 5/10\n",
            "1875/1875 [==============================] - 63s 34ms/step - loss: 0.0185 - accuracy: 0.9937 - val_loss: 0.0330 - val_accuracy: 0.9895\n",
            "Epoch 6/10\n",
            "1875/1875 [==============================] - 62s 33ms/step - loss: 0.0143 - accuracy: 0.9954 - val_loss: 0.0294 - val_accuracy: 0.9904\n",
            "Epoch 7/10\n",
            "1875/1875 [==============================] - 62s 33ms/step - loss: 0.0110 - accuracy: 0.9963 - val_loss: 0.0309 - val_accuracy: 0.9912\n",
            "Epoch 8/10\n",
            "1875/1875 [==============================] - 62s 33ms/step - loss: 0.0089 - accuracy: 0.9969 - val_loss: 0.0270 - val_accuracy: 0.9909\n",
            "Epoch 9/10\n",
            "1875/1875 [==============================] - 62s 33ms/step - loss: 0.0072 - accuracy: 0.9976 - val_loss: 0.0419 - val_accuracy: 0.9914\n",
            "Epoch 10/10\n",
            "1875/1875 [==============================] - 63s 34ms/step - loss: 0.0076 - accuracy: 0.9976 - val_loss: 0.0365 - val_accuracy: 0.9910\n"
          ]
        },
        {
          "output_type": "execute_result",
          "data": {
            "text/plain": [
              "<keras.callbacks.History at 0x7fd98ea653c0>"
            ]
          },
          "metadata": {},
          "execution_count": 9
        }
      ]
    },
    {
      "cell_type": "code",
      "source": [
        "# Evaluate the model\n",
        "loss, accuracy = model.evaluate(X_test, y_test)\n",
        "print(\"Test Loss:\", loss)\n",
        "print(\"Test Accuracy:\", accuracy)"
      ],
      "metadata": {
        "id": "4O6aMxhY2qTL",
        "colab": {
          "base_uri": "https://localhost:8080/"
        },
        "outputId": "fe5bcdf0-d782-46bb-d45a-06e90dae435a"
      },
      "execution_count": 10,
      "outputs": [
        {
          "output_type": "stream",
          "name": "stdout",
          "text": [
            "313/313 [==============================] - 4s 13ms/step - loss: 0.0365 - accuracy: 0.9910\n",
            "Test Loss: 0.036520615220069885\n",
            "Test Accuracy: 0.9909999966621399\n"
          ]
        }
      ]
    }
  ]
}