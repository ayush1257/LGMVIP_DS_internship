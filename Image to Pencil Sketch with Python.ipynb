{
 "cells": [
  {
   "attachments": {},
   "cell_type": "markdown",
   "metadata": {},
   "source": [
    "Image to Pencil Sketch with Python"
   ]
  },
  {
   "cell_type": "code",
   "execution_count": 1,
   "metadata": {},
   "outputs": [],
   "source": [
    "from PIL import Image\n",
    "import numpy as np\n",
    "import cv2"
   ]
  },
  {
   "cell_type": "code",
   "execution_count": 2,
   "metadata": {},
   "outputs": [],
   "source": [
    "def pencil_sketch(image_path):\n",
    "    # Open the image using PIL\n",
    "    pil_image = Image.open(image_path).convert('L')  # Convert to grayscale\n",
    "\n",
    "    # Convert PIL image to NumPy array\n",
    "    image = np.array(pil_image)\n",
    "\n",
    "    # Invert the grayscale image\n",
    "    inverted_image = cv2.bitwise_not(image)\n",
    "\n",
    "    # Create an inverted blurry image\n",
    "    blurred_image = cv2.GaussianBlur(inverted_image, (21, 21), 0)\n",
    "\n",
    "    # Create the pencil sketch by dividing the grayscale image by the inverted blurry image\n",
    "    pencil_sketch = cv2.divide(image, blurred_image, scale=256.0)\n",
    "\n",
    "    # Display the original image and the pencil sketch\n",
    "    cv2.imshow('Original Image', image)\n",
    "    cv2.imshow('Pencil Sketch', pencil_sketch)\n",
    "    cv2.waitKey(0)\n",
    "    cv2.destroyAllWindows()"
   ]
  },
  {
   "cell_type": "code",
   "execution_count": 3,
   "metadata": {},
   "outputs": [],
   "source": [
    "# Specify the path to your image\n",
    "image_path = \"E:\\personal\\mobile\\Facebook\\FB_IMG_1601434675461.jpg\"\n",
    "\n",
    "# Call the pencil_sketch function\n",
    "pencil_sketch(image_path)"
   ]
  }
 ],
 "metadata": {
  "kernelspec": {
   "display_name": "Python 3",
   "language": "python",
   "name": "python3"
  },
  "language_info": {
   "codemirror_mode": {
    "name": "ipython",
    "version": 3
   },
   "file_extension": ".py",
   "mimetype": "text/x-python",
   "name": "python",
   "nbconvert_exporter": "python",
   "pygments_lexer": "ipython3",
   "version": "3.11.4"
  },
  "orig_nbformat": 4
 },
 "nbformat": 4,
 "nbformat_minor": 2
}
